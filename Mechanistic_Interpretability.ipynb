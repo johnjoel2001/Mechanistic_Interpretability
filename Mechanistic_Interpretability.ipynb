{
  "nbformat": 4,
  "nbformat_minor": 0,
  "metadata": {
    "colab": {
      "provenance": [],
      "authorship_tag": "ABX9TyOhyNhfjON9OGY61F2qN69m",
      "include_colab_link": true
    },
    "kernelspec": {
      "name": "python3",
      "display_name": "Python 3"
    },
    "language_info": {
      "name": "python"
    }
  },
  "cells": [
    {
      "cell_type": "markdown",
      "metadata": {
        "id": "view-in-github",
        "colab_type": "text"
      },
      "source": [
        "<a href=\"https://colab.research.google.com/github/johnjoel2001/Mechanistic_Interpretability/blob/main/Mechanistic_Interpretability.ipynb\" target=\"_parent\"><img src=\"https://colab.research.google.com/assets/colab-badge.svg\" alt=\"Open In Colab\"/></a>"
      ]
    },
    {
      "cell_type": "markdown",
      "source": [
        "# **XAI - AIPI 590**\n",
        "\n",
        "**Assignment 06 - Mechanistic Interpretability**\n",
        "\n",
        "**John Rohit Ernest Jayaraj**"
      ],
      "metadata": {
        "id": "lEOsD1mx7Sw1"
      }
    },
    {
      "cell_type": "code",
      "source": [
        "# Connects to any needed files from GitHub and Google Drive\n",
        "import os\n",
        "\n",
        "# Remove Colab default sample_data\n",
        "!rm -r ./sample_data\n",
        "\n",
        "# Clone GitHub files to colab workspace\n",
        "repo_name = \"Mechanistic_Interpretability\"\n",
        "git_path = 'https://github.com/johnjoel2001/Mechanistic_Interpretability.git'\n",
        "!git clone \"{git_path}\""
      ],
      "metadata": {
        "colab": {
          "base_uri": "https://localhost:8080/"
        },
        "id": "3BtxhCD18ESw",
        "outputId": "09e3b934-9363-4b4b-8a44-5cdf12d8968f"
      },
      "execution_count": 16,
      "outputs": [
        {
          "output_type": "stream",
          "name": "stdout",
          "text": [
            "Cloning into 'Mechanistic_Interpretability'...\n",
            "remote: Enumerating objects: 3, done.\u001b[K\n",
            "remote: Counting objects: 100% (3/3), done.\u001b[K\n",
            "remote: Total 3 (delta 0), reused 0 (delta 0), pack-reused 0 (from 0)\u001b[K\n",
            "Receiving objects: 100% (3/3), done.\n"
          ]
        }
      ]
    },
    {
      "cell_type": "markdown",
      "source": [
        "# **I chose the paper \"Toy Models of Superposition\".**"
      ],
      "metadata": {
        "id": "D0DR9q-j7uPs"
      }
    },
    {
      "cell_type": "markdown",
      "source": [
        "# **Neural Network Superposition Analysis**"
      ],
      "metadata": {
        "id": "FoLoJHVYzV67"
      }
    },
    {
      "cell_type": "markdown",
      "source": [
        "**Specific Finding Implemented**\n",
        "* I have decided to implement a technique from the paper \"Toy Models of Superposition\" that demonstrates how neural networks represent more features than the available dimensions through frequency-based prioritization.\n",
        "\n",
        "* This implementation would show how networks learn to give stronger representations to frequently occurring features and efficiently use limited dimensional space through superposition.\n"
      ],
      "metadata": {
        "id": "Ej3bRlJh72nB"
      }
    },
    {
      "cell_type": "markdown",
      "source": [
        "**Why was this chosen?**\n",
        "\n",
        "\n",
        "* This finding/tecgnique provides a clear and a testable hypothesis about how neural networks organize information.\n",
        "* This offers insights into how neural networks \"cheat\" dimensional limitations.\n",
        "* This can be created by using a simple autoencoder."
      ],
      "metadata": {
        "id": "LquBOoIQ9zLw"
      }
    },
    {
      "cell_type": "markdown",
      "source": [
        "**Plan for Implementation**\n",
        "\n",
        "\n",
        "1) **Model Architecture**\n",
        "* Create an autoencoder with dimensional bottleneck (hidden_dim < input_dim)\n",
        "* Let's use simple linear layers and ReLU activation\n",
        "\n",
        "2) **Data Generation**\n",
        "* Let us generate synthetic data with controlled feature frequencies\n",
        "* Then we shall implement exponential decay for feature importance\n",
        "\n",
        "3) **Analysis Tools**\n",
        "\n",
        "* Measure representation strength for each feature\n",
        "* Calculate interference between feature pairs\n",
        "* Analyze geometric organization of features\n",
        "\n",
        "\n",
        "4) **Visualization**\n",
        "* Let us Plot frequency vs. representation strength correlation\n",
        "* Create interference pattern heatmaps\n",
        "* Visualize feature geometry in reduced dimensional space\n",
        "* Show training progress and convergence\n",
        "\n",
        "5) **Verification**\n",
        " * Finally we shall compare results with paper's predictions\n",
        " * Draw inferences from our results.\n"
      ],
      "metadata": {
        "id": "QEFP92gz_ZNc"
      }
    },
    {
      "cell_type": "markdown",
      "source": [
        "**Code Implementation**"
      ],
      "metadata": {
        "id": "0fCrl1RsIHXc"
      }
    },
    {
      "cell_type": "code",
      "source": [
        "# Importing Dependencies\n",
        "import numpy as np\n",
        "import matplotlib.pyplot as plt\n",
        "import seaborn as sns\n",
        "import torch\n",
        "import torch.nn as nn\n",
        "import torch.optim as optim\n",
        "from sklearn.decomposition import PCA\n",
        "from typing import Tuple, List"
      ],
      "metadata": {
        "id": "dSHmcErqIKfi"
      },
      "execution_count": 3,
      "outputs": []
    },
    {
      "cell_type": "markdown",
      "source": [
        "**Defining Model Architecture**\n"
      ],
      "metadata": {
        "id": "VjGXKpVeIYnV"
      }
    },
    {
      "cell_type": "markdown",
      "source": [
        "* We are deliberately creating a bottleneck in the model architecture.\n",
        "* Input dimension > Hidden dimension (forcing superposition)\n",
        "* Simple linear layers with ReLU activation\n",
        "* Autoencoder structure forces efficient information encoding"
      ],
      "metadata": {
        "id": "kCIjVj3xIeoz"
      }
    },
    {
      "cell_type": "code",
      "source": [
        "class SuperpositionModel(nn.Module):\n",
        "    def __init__(self, input_dim: int, hidden_dim: int):\n",
        "        super().__init__()\n",
        "        self.encoder = nn.Linear(input_dim, hidden_dim)\n",
        "        self.activation = nn.ReLU()\n",
        "        self.decoder = nn.Linear(hidden_dim, input_dim)\n",
        "\n",
        "    def forward(self, x: torch.Tensor):\n",
        "        encoded = self.activation(self.encoder(x))\n",
        "        decoded = self.decoder(encoded)\n",
        "        return decoded"
      ],
      "metadata": {
        "id": "OC3VEZe8I67p"
      },
      "execution_count": 4,
      "outputs": []
    },
    {
      "cell_type": "markdown",
      "source": [
        "**Data Generation**"
      ],
      "metadata": {
        "id": "mZcMVB_7I9zJ"
      }
    },
    {
      "cell_type": "markdown",
      "source": [
        "We are creating exponentially decaying feature frequencies by mimicking natural data distributions and emphasising on feature importance."
      ],
      "metadata": {
        "id": "DOBXs_ZZJFSd"
      }
    },
    {
      "cell_type": "code",
      "source": [
        "def generate_frequency_based_data(num_samples,num_features,frequency_decay= 0.8):\n",
        "    frequencies = np.power(frequency_decay, np.arange(num_features))\n",
        "    frequencies = frequencies / np.sum(frequencies)\n",
        "\n",
        "    data = torch.zeros((num_samples, num_features))\n",
        "    for i in range(num_samples):\n",
        "        active = torch.tensor(np.random.random(num_features) < frequencies)\n",
        "        data[i, active] = torch.randn(active.sum())\n",
        "\n",
        "    return data, frequencies"
      ],
      "metadata": {
        "id": "0AZC-qzVJhAp"
      },
      "execution_count": 5,
      "outputs": []
    },
    {
      "cell_type": "markdown",
      "source": [
        "**Model Training**"
      ],
      "metadata": {
        "id": "4Run4exXJyQu"
      }
    },
    {
      "cell_type": "code",
      "source": [
        "def train_model(model: SuperpositionModel, data,num_epochs= 1000,log_every = 100):\n",
        "    optimizer = optim.Adam(model.parameters()) # Using Adam optimizer\n",
        "    criterion = nn.MSELoss()  # Using reconstruction loss (MSELoss)\n",
        "\n",
        "    losses = []               # Tracking loss for monitoring convergence\n",
        "\n",
        "    for epoch in range(num_epochs): # Standard Training Loop\n",
        "        optimizer.zero_grad()\n",
        "        output = model(data)\n",
        "        loss = criterion(output, data)\n",
        "        loss.backward()\n",
        "        optimizer.step()\n",
        "\n",
        "        if epoch % log_every == 0: # Log Progress\n",
        "            losses.append(loss.item())\n",
        "            print(f\"Epoch {epoch}, Loss: {loss.item():.4f}\")\n",
        "\n",
        "    return losses"
      ],
      "metadata": {
        "id": "-sGEQM-AJ7e1"
      },
      "execution_count": 7,
      "outputs": []
    },
    {
      "cell_type": "markdown",
      "source": [
        "**Feature Analysis**"
      ],
      "metadata": {
        "id": "cVXn1KLnNQL-"
      }
    },
    {
      "cell_type": "markdown",
      "source": [
        "* Over here we analyze how features are represented in the hidden space.\n",
        "* We use activation maximization to understand feature representations."
      ],
      "metadata": {
        "id": "2hvNj5VLNVl6"
      }
    },
    {
      "cell_type": "code",
      "source": [
        "def analyze_feature_geometry(model:SuperpositionModel,data) :\n",
        "\n",
        "    feature_directions = []\n",
        "    feature_strengths = []\n",
        "\n",
        "    # Analyzing each feature separately\n",
        "    for i in range(data.shape[1]):\n",
        "        # Creating input that isolates this feature\n",
        "        input_data = torch.zeros_like(data[0])\n",
        "        input_data[i] = 1.0\n",
        "\n",
        "        # Getting the representation\n",
        "        with torch.no_grad():\n",
        "            encoded = model.encoder(input_data)\n",
        "            # Calculating representation strength\n",
        "            strength = torch.norm(encoded).item()\n",
        "            # Calculateign normalized direction\n",
        "            direction = encoded / (strength + 1e-6)\n",
        "\n",
        "        feature_directions.append(direction.numpy())\n",
        "        feature_strengths.append(strength)\n",
        "\n",
        "    return np.array(feature_directions), np.array(feature_strengths)"
      ],
      "metadata": {
        "id": "NV12_0xwM8_5"
      },
      "execution_count": 14,
      "outputs": []
    },
    {
      "cell_type": "markdown",
      "source": [
        "**Plots & Visualisations**"
      ],
      "metadata": {
        "id": "OVps9I_PMhSo"
      }
    },
    {
      "cell_type": "code",
      "source": [
        "def plot_training_progress(losses, log_every) :   # Plotting Training loss over time\n",
        "\n",
        "    plt.figure(figsize=(10, 5))\n",
        "    epochs = range(0, len(losses) * log_every, log_every)\n",
        "    plt.plot(epochs, losses, '-o')\n",
        "    plt.title('Training Loss Over Time')\n",
        "    plt.xlabel('Epoch')\n",
        "    plt.ylabel('Loss')\n",
        "    plt.yscale('log')  # Log scale helps visualize improvement\n",
        "    plt.grid(True)\n",
        "    plt.show()\n",
        "\n",
        "def plot_frequency_strength_correlation(frequencies,strengths,feature_names): #  Visualizing relationship between feature frequency and representation strength.\n",
        "\n",
        "    plt.figure(figsize=(12, 5))\n",
        "\n",
        "    # Scatter plot with trend line\n",
        "    plt.subplot(1, 2, 1)\n",
        "    plt.scatter(frequencies, strengths, alpha=0.6)\n",
        "    # Adding a  trend line to show correlation\n",
        "    z = np.polyfit(frequencies, strengths, 1)\n",
        "    p = np.poly1d(z)\n",
        "    plt.plot(frequencies, p(frequencies), \"r--\", alpha=0.8)\n",
        "    plt.title('Feature Frequency vs Representation Strength')\n",
        "    plt.xlabel('Feature Frequency')\n",
        "    plt.ylabel('Representation Strength')\n",
        "\n",
        "    # Bar comparison\n",
        "    plt.subplot(1, 2, 2)\n",
        "    x = np.arange(len(feature_names))\n",
        "    width = 0.35\n",
        "    plt.bar(x - width/2, frequencies, width, label='Frequency', alpha=0.6)\n",
        "    plt.bar(x + width/2, strengths, width, label='Strength', alpha=0.6)\n",
        "    plt.xlabel('Features')\n",
        "    plt.ylabel('Value')\n",
        "    plt.title('Feature Frequency and Strength Comparison')\n",
        "    plt.xticks(x, feature_names, rotation=45)\n",
        "    plt.legend()\n",
        "\n",
        "    plt.tight_layout()\n",
        "    plt.show()\n",
        "\n",
        "def run_complete_analysis(input_dim=20,hidden_dim=10,num_samples=1000, num_epochs= 1000,log_every = 10):\n",
        "\n",
        "    # Setting random seeds for reproducibility\n",
        "    torch.manual_seed(42)\n",
        "    np.random.seed(42)\n",
        "\n",
        "    # Generating synthetic data\n",
        "    print(\"Generating data...\")\n",
        "    data, frequencies = generate_frequency_based_data(num_samples, input_dim)\n",
        "    feature_names = [f'F{i+1}' for i in range(input_dim)]\n",
        "\n",
        "    # Createin and training model\n",
        "    print(\"\\nTraining model...\")\n",
        "    model = SuperpositionModel(input_dim, hidden_dim)\n",
        "    losses = train_model(model, data, num_epochs, log_every)\n",
        "\n",
        "    # Analyzing results\n",
        "    print(\"\\nAnalyzing feature geometry...\")\n",
        "    directions, strengths = analyze_feature_geometry(model, data)\n",
        "\n",
        "    # Creating visualizations\n",
        "    print(\"\\n1. Training Progress\")\n",
        "    plot_training_progress(losses, log_every)\n",
        "\n",
        "    print(\"\\n2. Frequency-Strength Correlation\")\n",
        "    plot_frequency_strength_correlation(frequencies, strengths, feature_names)\n",
        "\n",
        "    # Printing key findings\n",
        "    correlation = np.corrcoef(frequencies, strengths)[0,1]\n",
        "    interference = np.abs(directions @ directions.T)\n",
        "    print(\"\\nKey Findings:\")\n",
        "    print(f\" Correlation between frequency and representation strength: {correlation:.3f}\")\n",
        "    print(f\" Average interference between features: {interference[~np.eye(input_dim,dtype=bool)].mean():.3f}\")\n",
        "\n",
        "\n",
        "if __name__ == \"__main__\":\n",
        "    # Run the complete analysis with default parameters\n",
        "    run_complete_analysis()"
      ],
      "metadata": {
        "colab": {
          "base_uri": "https://localhost:8080/",
          "height": 1000
        },
        "id": "S8ejbe7PMqg1",
        "outputId": "9327ed55-7315-44ab-ab8d-39f54ee117f1"
      },
      "execution_count": 15,
      "outputs": [
        {
          "output_type": "stream",
          "name": "stdout",
          "text": [
            "Generating data...\n",
            "\n",
            "Training model...\n",
            "Epoch 0, Loss: 0.0835\n",
            "Epoch 10, Loss: 0.0769\n",
            "Epoch 20, Loss: 0.0713\n",
            "Epoch 30, Loss: 0.0665\n",
            "Epoch 40, Loss: 0.0622\n",
            "Epoch 50, Loss: 0.0585\n",
            "Epoch 60, Loss: 0.0551\n",
            "Epoch 70, Loss: 0.0521\n",
            "Epoch 80, Loss: 0.0493\n",
            "Epoch 90, Loss: 0.0468\n",
            "Epoch 100, Loss: 0.0445\n",
            "Epoch 110, Loss: 0.0425\n",
            "Epoch 120, Loss: 0.0406\n",
            "Epoch 130, Loss: 0.0388\n",
            "Epoch 140, Loss: 0.0371\n",
            "Epoch 150, Loss: 0.0356\n",
            "Epoch 160, Loss: 0.0342\n",
            "Epoch 170, Loss: 0.0329\n",
            "Epoch 180, Loss: 0.0317\n",
            "Epoch 190, Loss: 0.0306\n",
            "Epoch 200, Loss: 0.0295\n",
            "Epoch 210, Loss: 0.0283\n",
            "Epoch 220, Loss: 0.0272\n",
            "Epoch 230, Loss: 0.0260\n",
            "Epoch 240, Loss: 0.0248\n",
            "Epoch 250, Loss: 0.0237\n",
            "Epoch 260, Loss: 0.0227\n",
            "Epoch 270, Loss: 0.0217\n",
            "Epoch 280, Loss: 0.0208\n",
            "Epoch 290, Loss: 0.0199\n",
            "Epoch 300, Loss: 0.0190\n",
            "Epoch 310, Loss: 0.0183\n",
            "Epoch 320, Loss: 0.0175\n",
            "Epoch 330, Loss: 0.0168\n",
            "Epoch 340, Loss: 0.0162\n",
            "Epoch 350, Loss: 0.0155\n",
            "Epoch 360, Loss: 0.0149\n",
            "Epoch 370, Loss: 0.0143\n",
            "Epoch 380, Loss: 0.0138\n",
            "Epoch 390, Loss: 0.0133\n",
            "Epoch 400, Loss: 0.0129\n",
            "Epoch 410, Loss: 0.0125\n",
            "Epoch 420, Loss: 0.0122\n",
            "Epoch 430, Loss: 0.0118\n",
            "Epoch 440, Loss: 0.0115\n",
            "Epoch 450, Loss: 0.0112\n",
            "Epoch 460, Loss: 0.0109\n",
            "Epoch 470, Loss: 0.0107\n",
            "Epoch 480, Loss: 0.0104\n",
            "Epoch 490, Loss: 0.0102\n",
            "Epoch 500, Loss: 0.0100\n",
            "Epoch 510, Loss: 0.0098\n",
            "Epoch 520, Loss: 0.0095\n",
            "Epoch 530, Loss: 0.0093\n",
            "Epoch 540, Loss: 0.0092\n",
            "Epoch 550, Loss: 0.0090\n",
            "Epoch 560, Loss: 0.0088\n",
            "Epoch 570, Loss: 0.0086\n",
            "Epoch 580, Loss: 0.0085\n",
            "Epoch 590, Loss: 0.0083\n",
            "Epoch 600, Loss: 0.0082\n",
            "Epoch 610, Loss: 0.0080\n",
            "Epoch 620, Loss: 0.0079\n",
            "Epoch 630, Loss: 0.0077\n",
            "Epoch 640, Loss: 0.0076\n",
            "Epoch 650, Loss: 0.0075\n",
            "Epoch 660, Loss: 0.0074\n",
            "Epoch 670, Loss: 0.0072\n",
            "Epoch 680, Loss: 0.0071\n",
            "Epoch 690, Loss: 0.0070\n",
            "Epoch 700, Loss: 0.0069\n",
            "Epoch 710, Loss: 0.0068\n",
            "Epoch 720, Loss: 0.0068\n",
            "Epoch 730, Loss: 0.0067\n",
            "Epoch 740, Loss: 0.0066\n",
            "Epoch 750, Loss: 0.0065\n",
            "Epoch 760, Loss: 0.0064\n",
            "Epoch 770, Loss: 0.0064\n",
            "Epoch 780, Loss: 0.0063\n",
            "Epoch 790, Loss: 0.0062\n",
            "Epoch 800, Loss: 0.0062\n",
            "Epoch 810, Loss: 0.0061\n",
            "Epoch 820, Loss: 0.0060\n",
            "Epoch 830, Loss: 0.0060\n",
            "Epoch 840, Loss: 0.0059\n",
            "Epoch 850, Loss: 0.0059\n",
            "Epoch 860, Loss: 0.0058\n",
            "Epoch 870, Loss: 0.0058\n",
            "Epoch 880, Loss: 0.0057\n",
            "Epoch 890, Loss: 0.0057\n",
            "Epoch 900, Loss: 0.0056\n",
            "Epoch 910, Loss: 0.0056\n",
            "Epoch 920, Loss: 0.0055\n",
            "Epoch 930, Loss: 0.0055\n",
            "Epoch 940, Loss: 0.0055\n",
            "Epoch 950, Loss: 0.0054\n",
            "Epoch 960, Loss: 0.0054\n",
            "Epoch 970, Loss: 0.0054\n",
            "Epoch 980, Loss: 0.0053\n",
            "Epoch 990, Loss: 0.0053\n",
            "\n",
            "Analyzing feature geometry...\n",
            "\n",
            "1. Training Progress\n"
          ]
        },
        {
          "output_type": "display_data",
          "data": {
            "text/plain": [
              "<Figure size 1000x500 with 1 Axes>"
            ],
            "image/png": "[encoded data removed]"
          },
          "metadata": {}
        },
        {
          "output_type": "stream",
          "name": "stdout",
          "text": [
            "\n",
            "2. Frequency-Strength Correlation\n"
          ]
        },
        {
          "output_type": "display_data",
          "data": {
            "text/plain": [
              "<Figure size 1200x500 with 2 Axes>"
            ],
            "image/png": "[encoded data removed]"
          },
          "metadata": {}
        },
        {
          "output_type": "stream",
          "name": "stdout",
          "text": [
            "\n",
            "Key Findings:\n",
            " Correlation between frequency and representation strength: -0.051\n",
            " Average interference between features: 0.879\n"
          ]
        }
      ]
    },
    {
      "cell_type": "markdown",
      "source": [
        "**Observations**\n",
        "\n",
        "1) **Scatter plot of Feature Frequency vs Representation Strength**\n",
        "*  Over here, we see a slight negative correlation here, which is actually contrary to what we would  expect from the paper which predicts more frequent features should have stronger representations\n",
        "\n",
        "\n",
        "* The scatter shows quite a bit of variance, with some lower frequency features having  high representation strengths.\n",
        "\n",
        "2) **Bar Chart comparing Feature Frequency and Strength**\n",
        "* We can see that while the frequencies (blue) decrease gradually, the representation strengths (orange) don't follow the same pattern.\n",
        "\n",
        "\n",
        "* The representation strengths are relatively high across many features which I think suggests that our model might not be prioritizing frequent features as strongly as expected."
      ],
      "metadata": {
        "id": "_rBP8-d1ZJZL"
      }
    },
    {
      "cell_type": "markdown",
      "source": [
        "**Key Findings from our Implementation**\n",
        "\n",
        "* **Correlation between frequency and representation strength: -0.051**\n",
        "   * We can observe here a slight negative correlation\n",
        "   * In contrary, the paper predicts a strong positive correlation i.e., frequent features should have stronger representations.\n",
        "   * Our negative value suggests our model is actually giving slightly stronger representations to less frequent features.\n",
        "   * This is opposite to the expected behavior where more frequent features should get priority.\n",
        "\n",
        "* **Average interference between features: 0.879**\n",
        "   * This value is too high according to my opinion.\n",
        "   * The value of 0.879 suggests our features are highly interfering with each other\n",
        "   * The paper predicts low interference between features, especially frequent ones\n",
        "   * The paper also says taht ideal values Ideal values should be closer to in the range from 0.2-0.3.\n"
      ],
      "metadata": {
        "id": "nw37HS4FahVY"
      }
    },
    {
      "cell_type": "markdown",
      "source": [
        "**Verification**"
      ],
      "metadata": {
        "id": "5KTv3kcHcCQO"
      }
    },
    {
      "cell_type": "markdown",
      "source": [
        "* Our implementation shows several issues when compared to expected behavior.\n",
        "\n",
        "* Negative correlation (-0.051) between frequency and representation strength\n",
        "* We expected a strong positive correlation.\n",
        "* Very high feature interference (0.879) (expected: 0.2-0.3)\n",
        "* We expected the interaction b/w features to be in the range from 0.2 - 0.3 as mentioned in paper.\n",
        "*  Basic superposition mechanism is not working as expected."
      ],
      "metadata": {
        "id": "m_sPNKVVlAMA"
      }
    },
    {
      "cell_type": "markdown",
      "source": [
        "**Comparision with Paper**"
      ],
      "metadata": {
        "id": "89tshI6HldER"
      }
    },
    {
      "cell_type": "markdown",
      "source": [
        "| Metric | Paper | Our Implementation | Status |\n",
        "|--------|-------|-------------------|---------|\n",
        "| Frequency-Strength Correlation | ~0.8 | -0.051 | Failed |\n",
        "| Feature Interference | 0.2-0.3 | 0.879 | Failed |"
      ],
      "metadata": {
        "id": "MIWS8JJwmdnK"
      }
    },
    {
      "cell_type": "markdown",
      "source": [
        "**Documented Simplifications**"
      ],
      "metadata": {
        "id": "2rDKGiPUnbcg"
      }
    },
    {
      "cell_type": "markdown",
      "source": [
        "* Used ReLU instead of paper's interference patterns\n",
        "* Simplified data generation process\n",
        "* Used basic linear layers without additional regularization\n",
        "* No noise was introduced during the process"
      ],
      "metadata": {
        "id": "8dQld293neY_"
      }
    },
    {
      "cell_type": "markdown",
      "source": [
        "**What I Learned:**\n",
        "* As per my opinion, I think that superposition is sensitive to architecture choices\n",
        "\n",
        "* Feature interference needs to be dealt carefully\n",
        "* Simple dimensional reduction isn't enough\n",
        "* Frequency-based prioritization requires specific training conditions\n",
        "\n",
        "\n",
        "**Challenges Encountered:**\n",
        "\n",
        "* We saw that it was difficult in  achieving proper frequency-strength correlation\n",
        "\n",
        "* High feature interference despite dimensional bottleneck\n",
        "* Measuring representation strength accurately"
      ],
      "metadata": {
        "id": "jGqdgRgsnoEv"
      }
    },
    {
      "cell_type": "markdown",
      "source": [
        "**Suggested Improvements**"
      ],
      "metadata": {
        "id": "fstRaf-OoL8U"
      }
    },
    {
      "cell_type": "markdown",
      "source": [
        "* Architectural Changes\n",
        "\n",
        "* Modified Loss Function\n",
        "\n",
        "* Including noise during training\n",
        "\n",
        "* Adding regularization for feature interference\n",
        "\n",
        "* Maybe trying to mplement proper frequency-based loss weighting\n",
        "\n",
        "* Using different activation fucntions other than ReLu"
      ],
      "metadata": {
        "id": "4uzyB4fQoQC6"
      }
    },
    {
      "cell_type": "markdown",
      "source": [
        "**Notes & Reference**\n",
        "\n",
        "1)\n",
        "```\n",
        " frequencies = np.power(frequency_decay, np.arange(num_features))\n",
        " frequencies = frequencies / np.sum(frequencies)\n",
        " data = torch.zeros((num_samples, num_features))\n",
        "```\n",
        "\n",
        "Three three lines of code were generated using Chatgpt o3-mini-high on 02/19/24 at 10:25 pm.\n",
        "\n",
        "2) Apart from this, AI was not used in any manner.\n",
        "\n",
        "3) https://transformer-circuits.pub/2022/toy_model/index.html#demonstrating\n",
        "\n"
      ],
      "metadata": {
        "id": "BYwkfFFBo2_4"
      }
    }
  ]
}